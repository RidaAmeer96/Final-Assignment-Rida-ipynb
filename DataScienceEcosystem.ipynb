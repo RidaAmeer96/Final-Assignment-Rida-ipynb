{
  "metadata": {
    "kernelspec": {
      "name": "python",
      "display_name": "Python (Pyodide)",
      "language": "python"
    },
    "language_info": {
      "codemirror_mode": {
        "name": "python",
        "version": 3
      },
      "file_extension": ".py",
      "mimetype": "text/x-python",
      "name": "python",
      "nbconvert_exporter": "python",
      "pygments_lexer": "ipython3",
      "version": "3.8"
    }
  },
  "nbformat_minor": 5,
  "nbformat": 4,
  "cells": [
    {
      "id": "51d70af1-a191-4336-979e-50c088e6eec4",
      "cell_type": "markdown",
      "source": "# Data Science Tools and Ecosystem",
      "metadata": {}
    },
    {
      "id": "8605f57b-e2da-4f8d-9a98-9fccea89dae1",
      "cell_type": "markdown",
      "source": "In this notebook, Data Science Tools and Ecosystem are summarized.",
      "metadata": {}
    },
    {
      "id": "0c1a41d1-7d2b-4ffe-8b43-37388c35f26b",
      "cell_type": "markdown",
      "source": "#### Objectives:",
      "metadata": {}
    },
    {
      "id": "09da1364-8164-4378-87c3-e09ac34cdb76",
      "cell_type": "markdown",
      "source": "1. Popular languages for Data Science\n2. Commonly used libraries for Data Scientists\n3. Data Science Tools\n4. Arithmetic expressions in Python",
      "metadata": {}
    },
    {
      "id": "bc22b10b-da68-4170-acd9-ec3ea195d32f",
      "cell_type": "markdown",
      "source": "Some of the popular languages that Data Scientists use are:\nordered list:\n1. Phyton\n2. R\n3. SQL\n4. Java\n5. Julia\n6. Scala",
      "metadata": {}
    },
    {
      "id": "11958d78-9a03-4b8c-b96f-8873dea88a13",
      "cell_type": "markdown",
      "source": "Some of the commonly used libraries used by Data Scientists include:  \nordered list:\n1. Numpy\n2. Pytorch\n3. Tensorflow\n4. Matplotlib\n5. Pandas",
      "metadata": {}
    },
    {
      "id": "2a255c67-0fa9-4085-b948-eacf36bb17b1",
      "cell_type": "markdown",
      "source": "| Data Science Tools |\n|--------------------|\n| RStudio |\n| Jupyter Notebooks |\n| Matplotlib |\n| ggplot2 |\n| Power BI/ Tableau |\n| Google Data Studio |\n",
      "metadata": {}
    },
    {
      "id": "210e07d7-8fa4-4929-8b73-f7975feae2b3",
      "cell_type": "markdown",
      "source": "### Below are a few examples of evaluating arithmetic expressions in Python",
      "metadata": {}
    },
    {
      "id": "949ff5f4-e8c4-424e-af72-dcf921ae853f",
      "cell_type": "code",
      "source": "This a simple arithmetic expression to mutiply then add integers\n(3*4)+5",
      "metadata": {
        "trusted": true
      },
      "outputs": [
        {
          "execution_count": 6,
          "output_type": "execute_result",
          "data": {
            "text/plain": "17"
          },
          "metadata": {}
        }
      ],
      "execution_count": 6
    },
    {
      "id": "151a1b3e-e868-433b-bbdd-303fb99cd544",
      "cell_type": "code",
      "source": "# This will convert 200 minutes to hours by diving by 60\n200/60",
      "metadata": {
        "trusted": true
      },
      "outputs": [
        {
          "execution_count": 9,
          "output_type": "execute_result",
          "data": {
            "text/plain": "3.3333333333333335"
          },
          "metadata": {}
        }
      ],
      "execution_count": 9
    },
    {
      "id": "81d9dbb7-8dc0-4b8c-9bde-7ceea0d9e791",
      "cell_type": "markdown",
      "source": "Author\n## Rida Ameer",
      "metadata": {}
    }
  ]
}